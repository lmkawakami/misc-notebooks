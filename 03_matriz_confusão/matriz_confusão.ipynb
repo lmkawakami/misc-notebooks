{
 "cells": [
  {
   "cell_type": "code",
   "execution_count": 48,
   "metadata": {},
   "outputs": [
    {
     "data": {
      "application/vnd.jupyter.widget-view+json": {
       "model_id": "d8afb7452ab348d2b84673fca2824553",
       "version_major": 2,
       "version_minor": 0
      },
      "text/plain": [
       "interactive(children=(IntSlider(value=3, description='mu_positivo', max=10), FloatSlider(value=1.0, descriptio…"
      ]
     },
     "metadata": {},
     "output_type": "display_data"
    }
   ],
   "source": [
    "from scipy.stats import norm\n",
    "import seaborn as sns\n",
    "import numpy as np\n",
    "import matplotlib.pyplot as plt\n",
    "import pandas as pd\n",
    "from __future__ import print_function\n",
    "from ipywidgets import interact, interactive, fixed, interact_manual\n",
    "import ipywidgets as widgets\n",
    "from matplotlib.gridspec import GridSpec\n",
    "\n",
    "\n",
    "# formata float como % com 2 casas decimais\n",
    "def percentify(val):\n",
    "    return f'{100*val:.2f}%'\n",
    "\n",
    "# Discretização do eixo X\n",
    "xs = np.arange(0,12,.01)\n",
    "\n",
    "def plot_pdfs(mu_positivo, sigma_positivo, mu_negativo, sigma_negativo, prop, threshold):\n",
    "  \n",
    "    threshold_index = np.where(xs>threshold)[0][0]\n",
    "    fig = plt.figure(figsize=(22,5))\n",
    "    gs = GridSpec(1, 2, width_ratios=[8, 4])\n",
    "    plot = fig.add_subplot(gs[0])\n",
    "    matrix = fig.add_subplot(gs[1])\n",
    "    \n",
    "    # valores da PDF para os DOENTES\n",
    "    y1s = norm.pdf(xs, loc=mu_positivo, scale=sigma_positivo)*prop\n",
    "    plot.plot(xs, y1s)\n",
    "    # hachurar os falsos negativos\n",
    "    error1_vals = np.array((list([0.0]*threshold_index) + list(y1s[threshold_index:])))\n",
    "    plot.fill_between(xs, error1_vals, alpha=0.5)\n",
    "    \n",
    "    # valores da PDF para os NÃO DOENTES\n",
    "    y2s = norm.pdf(xs, loc=mu_negativo, scale=sigma_negativo)*(1-prop)\n",
    "    plot.plot(xs, y2s)\n",
    "    # hachurar os falsos positivos\n",
    "    error2_vals = np.array((list(y2s[:threshold_index]) + list([0.0]*(len(xs)-threshold_index))))\n",
    "    plot.fill_between(xs, error2_vals, alpha=0.5)\n",
    "    \n",
    "    # linha vertical de limiar/threshold\n",
    "    plot.axvline(threshold, 0, 1, color='black', alpha=200)\n",
    "    \n",
    "    # legendas\n",
    "    plot.legend(labels=[\n",
    "        \"Distribuição positivos (DOENTE)\",\n",
    "        \"Distribuição negativos (NÃO DOENTE)\",\n",
    "        \"Threshold ou Limiar [positivos | negativos]\",\n",
    "        \"Prob. falsos negativos\",\n",
    "        \"Prob. falsos positivos\",\n",
    "    ])\n",
    "\n",
    "    # fig.title(\"Distribuições das respostas ao teste\")\n",
    "    \n",
    "    # Cálculo das probabilidades\n",
    "    P_vp = norm.cdf(xs[threshold_index], loc=mu_positivo, scale=sigma_positivo)*prop      # verdadeiro positivo\n",
    "    P_fn = norm.sf(xs[threshold_index], loc=mu_positivo, scale=sigma_positivo)*prop       # falso positivo\n",
    "    P_vn = norm.sf(xs[threshold_index], loc=mu_negativo, scale=sigma_negativo)*(1-prop)   # verdadeiro negativo\n",
    "    P_fp = norm.cdf(xs[threshold_index], loc=mu_negativo, scale=sigma_negativo)*(1-prop)  # falso negativo\n",
    "    \n",
    "    # Criando matriz de confusão\n",
    "    df_conf = pd.DataFrame()\n",
    "    df_conf['Teste negativo'] = [P_vn,P_fn]\n",
    "    df_conf['Teste positivo'] = [P_fp,P_vp]\n",
    "    df_conf['idx'] = ['Não doente','Doente']\n",
    "    df_conf.set_index('idx',inplace=True)\n",
    "\n",
    "    sns.heatmap(df_conf, annot=True, ax=matrix, cmap=\"YlGnBu\")\n",
    "\n",
    "    # Construção da matriz de confusão\n",
    "    d = [\n",
    "        {'Real':'Positivo', 'Teste positivo':percentify(P_vp), 'Teste negativo':percentify(P_fn), '  % da pop.':percentify(P_vp+P_fn)},\n",
    "        {'Real':'Negativo', 'Teste positivo':percentify(P_fp), 'Teste negativo':percentify(P_vn), '  % da pop.':percentify(P_fp+P_vn)},\n",
    "        {'Real':'% da pop.', 'Teste positivo':percentify(P_vp+P_fp), 'Teste negativo':percentify(P_fn+P_vn), '  % da pop.':percentify(P_vp+P_fn+P_fp+P_vn)}\n",
    "    ]\n",
    "    print(pd.DataFrame(d).set_index('Real'))\n",
    "    print('-'*100)\n",
    "    \n",
    "    # Cálculo dos indicadores de qualidade do teste\n",
    "    sensitivity = P_vp/(P_vp+P_fn)    # prob. de classificar corretamente alguém como positivo\n",
    "    specificity = P_vn/(P_vn+P_fp)    # prob. de classificar corretamente alguém como negativo\n",
    "    PPV = P_vp/(P_vp+P_fp)            # prob. de ser positivo dado que o teste deu positivo\n",
    "    NPV = P_vn/(P_vn+P_fn)            # prob. de ser negativo dado que o teste deu negativo\n",
    "    print(f\"Precision/PPV: {100*PPV:.2f}%   NPV: {100*NPV:.2f}%   sensitivity: {100*sensitivity:.2f}%   specificity: {100*specificity:.2f}%\")\n",
    "    \n",
    "# Configurando sliders interativos\n",
    "interact(\n",
    "    plot_pdfs,\n",
    "    mu_positivo=widgets.IntSlider(min=0, max=10, step=1, value=3),\n",
    "    sigma_positivo=widgets.FloatSlider(min=0.1, max=5, step=.1, value=1.0),\n",
    "    mu_negativo=widgets.IntSlider(min=0, max=10, step=1, value=7),\n",
    "    sigma_negativo=widgets.FloatSlider(min=0.1, max=5, step=.1, value=1.0),\n",
    "    prop=widgets.FloatSlider(min=0.01, max=0.99, step=.01, value=0.5),\n",
    "    threshold=widgets.FloatSlider(min=0, max=10, step=.25, value=5),\n",
    ");\n"
   ]
  },
  {
   "cell_type": "markdown",
   "metadata": {},
   "source": [
    "- ***Precision / PPV*** (Positive Predictive Value) is the percentage of patients with a positive test who actually have the disease\n",
    "$$Precision = PPV = \\frac{true positive}{true positive + false positive}$$\n",
    "- ***NPV*** (Negative Predictive Value) is the percentage of patients with a negative test who do not have the disease\n",
    "$$NPV = \\frac{true negative}{false negative + true negative}$$\n",
    "- ***Specificity*** is the ability of a test to correctly classify an individual as disease-free\n",
    "$$Specificity  = \\frac{true negative}{true negative + false positive}$$\n",
    "- ***Sensitivity*** is the ability of a test to correctly classify an individual as ′diseased′ \n",
    "$$Sensitivity = \\frac{true positive}{true positive + false negative}$$\n",
    "> [fonte: Understanding and using sensitivity, specificity and predictive values](https://www.delftstack.com/howto/seaborn/legend-seaborn-plot/)\n",
    "\n",
    "### Obs:\n",
    "- Mudar a proporção entre `DOENTES` e `NÃO DOENTES` afeta `PPV` e `NPV`, mas **não** afeta `Specificity` e `Sensitivity`\n",
    "- Mesmo deixando tudo simétrico, pode ser que os valores fiquem com uma pequena diferença causada pela discretização grosseira do eixo X"
   ]
  }
 ],
 "metadata": {
  "interpreter": {
   "hash": "8fac594bfae6525c0c41b4041d2d72effa188cc8ead05f81b1fab2bb098927fb"
  },
  "kernelspec": {
   "display_name": "Python 3.8.5 ('base')",
   "language": "python",
   "name": "python3"
  },
  "language_info": {
   "codemirror_mode": {
    "name": "ipython",
    "version": 3
   },
   "file_extension": ".py",
   "mimetype": "text/x-python",
   "name": "python",
   "nbconvert_exporter": "python",
   "pygments_lexer": "ipython3",
   "version": "3.8.5"
  },
  "orig_nbformat": 4
 },
 "nbformat": 4,
 "nbformat_minor": 2
}
