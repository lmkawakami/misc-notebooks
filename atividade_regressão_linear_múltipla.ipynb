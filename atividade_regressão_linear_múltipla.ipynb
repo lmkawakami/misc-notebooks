{
 "cells": [
  {
   "cell_type": "markdown",
   "metadata": {},
   "source": [
    "# Q1. Previsão do Saldo Médio do Cartão de Crédito\n",
    "\n",
    "Neste case, você deverá aplicar a regressão linear múltipla para estimar o saldo médido do cartão de crédito de clientes de um banco, a partir das demais informações contidas no conjunto de dados (`credit_regression.csv`), os quais são descritos abaixo. Aplique a regressão linear, utilizando o `LinearRegression` do `sklearn` e, também, o `OLS` do `statsmodels`.\n",
    "\n",
    "- ID - Identificação\n",
    "- Income - Renda\n",
    "- Limit - Limite de crédito\n",
    "- Rating - Score do Serasa\n",
    "- Age - Idade\n",
    "- Education - Anos de educação\n",
    "- Gender - Gênero\n",
    "- Student - É estudante? (Sim ou Não)\n",
    "- Married - É casado(a)? (Sim ou Não)\n",
    "- Ethnicity - Afro-americano, asiático ou branco\n",
    "- Balance - Saldo médio do cartão de crédito em dólares"
   ]
  },
  {
   "cell_type": "code",
   "execution_count": null,
   "metadata": {},
   "outputs": [],
   "source": []
  },
  {
   "cell_type": "markdown",
   "metadata": {},
   "source": [
    "# Q2. Estimando o Preço de Venda de Casas\n",
    "\n",
    "O arquivo `usa_housing.csv` consiste em um dataset que contém informações sobre o preço de casas em determinadas regiões dos Estados Unidos. Uma descrição das colunas desse dataframes é apresentada abaixo:\n",
    "\n",
    "- `Avg. Area Income`: Média da renda dos residentes de onde a casa está localizada.\n",
    "- `Avg. Area House Age`: Média de idade das casas da mesma cidade.\n",
    "- `Avg. Area Number of Rooms`: Número médio de quartos para casas na mesma cidade.\n",
    "- `Avg. Area Number of Bedrooms`: Número médio de quartos para casas na mesma cidade.\n",
    "- `Area Population`: A população da cidade onde a casa está localizada.\n",
    "- `Price`: Preço de venda da casa.\n",
    "- `Address`: Endereço da casa.\n",
    "\n",
    "Utilize os dados contidos nele para criar um modelo de regressão linear que seja capaz de estimar o preço de venda das casas."
   ]
  }
 ],
 "metadata": {
  "interpreter": {
   "hash": "8fac594bfae6525c0c41b4041d2d72effa188cc8ead05f81b1fab2bb098927fb"
  },
  "kernelspec": {
   "display_name": "Python 3.8.5 ('base')",
   "language": "python",
   "name": "python3"
  },
  "language_info": {
   "name": "python",
   "version": "3.8.5"
  },
  "orig_nbformat": 4
 },
 "nbformat": 4,
 "nbformat_minor": 2
}
