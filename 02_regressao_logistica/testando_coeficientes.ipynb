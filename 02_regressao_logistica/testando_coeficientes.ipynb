{
 "cells": [
  {
   "cell_type": "markdown",
   "metadata": {},
   "source": [
    "# Tentando entender o que afeta os coeficientes da regressão logística\n",
    "\n",
    "Ver o impacto de um fator multiplicativo em uma variável de entrada e de ruído\n",
    "\n",
    "#### Meu pensamento inicial:\n",
    "> - fator multiplicativo afeta coeficientes (ex.: converção de moeda: R$->US$)\n",
    "> - ruído não afeta os coeficientes*\n",
    "\n",
    "*assumindo que a média do ruído é zero e forçando que o ruído não desnormalize os dados"
   ]
  },
  {
   "cell_type": "code",
   "execution_count": 1,
   "metadata": {},
   "outputs": [],
   "source": [
    "import numpy as np\n",
    "import pandas as pd\n",
    "import matplotlib.pyplot as plt\n",
    "import seaborn as sns\n",
    "import math\n",
    "from sklearn.linear_model import LogisticRegression\n",
    "sns.set()"
   ]
  },
  {
   "cell_type": "code",
   "execution_count": 2,
   "metadata": {},
   "outputs": [],
   "source": [
    "# Função para aplicar o ruído\n",
    "def aplly_noise(noise_intensity=1):\n",
    "  def func(input):\n",
    "    noise_amplitude = noise_intensity*math.sin(input*math.pi)/4\n",
    "    noise = np.random.uniform(-noise_amplitude,noise_amplitude)\n",
    "    return input+noise\n",
    "  return func"
   ]
  },
  {
   "cell_type": "code",
   "execution_count": 3,
   "metadata": {},
   "outputs": [
    {
     "data": {
      "text/html": [
       "<div>\n",
       "<style scoped>\n",
       "    .dataframe tbody tr th:only-of-type {\n",
       "        vertical-align: middle;\n",
       "    }\n",
       "\n",
       "    .dataframe tbody tr th {\n",
       "        vertical-align: top;\n",
       "    }\n",
       "\n",
       "    .dataframe thead th {\n",
       "        text-align: right;\n",
       "    }\n",
       "</style>\n",
       "<table border=\"1\" class=\"dataframe\">\n",
       "  <thead>\n",
       "    <tr style=\"text-align: right;\">\n",
       "      <th></th>\n",
       "      <th>inputs</th>\n",
       "      <th>noised_a</th>\n",
       "      <th>noised_b</th>\n",
       "      <th>noised_c</th>\n",
       "      <th>random</th>\n",
       "      <th>outputs</th>\n",
       "    </tr>\n",
       "  </thead>\n",
       "  <tbody>\n",
       "    <tr>\n",
       "      <th>0</th>\n",
       "      <td>0.0000</td>\n",
       "      <td>0.000000</td>\n",
       "      <td>0.000000</td>\n",
       "      <td>0.000000</td>\n",
       "      <td>0.570499</td>\n",
       "      <td>0</td>\n",
       "    </tr>\n",
       "    <tr>\n",
       "      <th>1</th>\n",
       "      <td>0.0001</td>\n",
       "      <td>0.000117</td>\n",
       "      <td>0.000056</td>\n",
       "      <td>0.000031</td>\n",
       "      <td>0.626735</td>\n",
       "      <td>0</td>\n",
       "    </tr>\n",
       "    <tr>\n",
       "      <th>9998</th>\n",
       "      <td>0.9999</td>\n",
       "      <td>0.999922</td>\n",
       "      <td>0.999919</td>\n",
       "      <td>0.999829</td>\n",
       "      <td>0.481832</td>\n",
       "      <td>1</td>\n",
       "    </tr>\n",
       "    <tr>\n",
       "      <th>9999</th>\n",
       "      <td>1.0000</td>\n",
       "      <td>1.000000</td>\n",
       "      <td>1.000000</td>\n",
       "      <td>1.000000</td>\n",
       "      <td>0.199520</td>\n",
       "      <td>1</td>\n",
       "    </tr>\n",
       "  </tbody>\n",
       "</table>\n",
       "</div>"
      ],
      "text/plain": [
       "      inputs  noised_a  noised_b  noised_c    random  outputs\n",
       "0     0.0000  0.000000  0.000000  0.000000  0.570499        0\n",
       "1     0.0001  0.000117  0.000056  0.000031  0.626735        0\n",
       "9998  0.9999  0.999922  0.999919  0.999829  0.481832        1\n",
       "9999  1.0000  1.000000  1.000000  1.000000  0.199520        1"
      ]
     },
     "execution_count": 3,
     "metadata": {},
     "output_type": "execute_result"
    }
   ],
   "source": [
    "# \"intensidade\" dos ruídos\n",
    "noise_levels = {\n",
    "  'noised_a': 0.33333,\n",
    "  'noised_b': 0.66667,\n",
    "  'noised_c': 1,\n",
    "}\n",
    "\n",
    "# dataframe com entrada pura, com diferentes níveis de ruído, entrada aleatória e saída esperada\n",
    "df = pd.DataFrame()\n",
    "df['inputs'] = np.linspace(0,1,10000)\n",
    "df['noised_a'] = df['inputs'].map(aplly_noise(noise_levels['noised_a']))\n",
    "df['noised_b'] = df['inputs'].map(aplly_noise(noise_levels['noised_b']))\n",
    "df['noised_c'] = df['inputs'].map(aplly_noise(noise_levels['noised_c']))\n",
    "df['random'] = np.random.uniform(0,1, len(df['inputs']))\n",
    "df['outputs'] = df['inputs'].map(lambda input: 0 if input<0.5 else 1)\n",
    "\n",
    "# primeiras e ultimas linhas para ilustrar\n",
    "df.take([0,1,-2,-1])"
   ]
  },
  {
   "cell_type": "code",
   "execution_count": 40,
   "metadata": {},
   "outputs": [
    {
     "data": {
      "text/plain": [
       "<matplotlib.legend.Legend at 0x21e2ab38100>"
      ]
     },
     "execution_count": 40,
     "metadata": {},
     "output_type": "execute_result"
    },
    {
     "data": {
      "image/png": "[encoded data removed]",
      "text/plain": [
       "<Figure size 432x288 with 1 Axes>"
      ]
     },
     "metadata": {},
     "output_type": "display_data"
    }
   ],
   "source": [
    "# Dispersão de todas as colunas do dataframe\n",
    "\n",
    "fig, ax = plt.subplots()\n",
    "ax.scatter(x=df.inputs, y=df.random, label=\"random\", alpha=.15)\n",
    "ax.scatter(x=df.inputs, y=df.noised_c, label=\"noised_c\", alpha=.15)\n",
    "ax.scatter(x=df.inputs, y=df.noised_b, label=\"noised_b\", alpha=.15)\n",
    "ax.scatter(x=df.inputs, y=df.noised_a, label=\"noised_a\", alpha=.15)\n",
    "ax.scatter(x=df.inputs, y=df.outputs, label=\"outputs\", alpha=.15)\n",
    "ax.scatter(x=df.inputs, y=df.inputs, label=\"inputs\", alpha=.15)\n",
    "ax.legend()"
   ]
  },
  {
   "cell_type": "markdown",
   "metadata": {},
   "source": [
    "# 🤔 Pra que tudo isso?\n",
    "- `inputs`: entrada ideal para determinar os `outputs`\n",
    "- `noised_X`: variações do `inputs` com algum ruído. Ruído se intensifica apenas no centro para evitar a \"desnormalização\" dos dados (mesmo com o ruído, tudo fica entre 0 e 1)\n",
    "- `inputs`: entrada aleatória que não deve apresentar correlação com `outputs`"
   ]
  },
  {
   "cell_type": "markdown",
   "metadata": {},
   "source": [
    "### Regrassão com `inputs`:"
   ]
  },
  {
   "cell_type": "code",
   "execution_count": 5,
   "metadata": {},
   "outputs": [
    {
     "data": {
      "text/plain": [
       "<matplotlib.collections.PathCollection at 0x21e2966c100>"
      ]
     },
     "execution_count": 5,
     "metadata": {},
     "output_type": "execute_result"
    },
    {
     "data": {
      "image/png": "[encoded data removed]",
      "text/plain": [
       "<Figure size 432x288 with 1 Axes>"
      ]
     },
     "metadata": {},
     "output_type": "display_data"
    }
   ],
   "source": [
    "X = df[['inputs']]\n",
    "y = df['outputs']\n",
    "\n",
    "clf = LogisticRegression().fit(X, y)\n",
    "y_pred = clf.predict(X)\n",
    "y_proba = clf.predict_proba(X)\n",
    "\n",
    "input_coefs = (clf.coef_[0][0], clf.intercept_[0])\n",
    "plt.scatter(x=y, y=y_pred, s=100)"
   ]
  },
  {
   "cell_type": "markdown",
   "metadata": {},
   "source": [
    "> regressão perfeita, nenhum falso positivo ou falso negativo"
   ]
  },
  {
   "cell_type": "markdown",
   "metadata": {},
   "source": [
    "### Regrassão com `noised_a`:"
   ]
  },
  {
   "cell_type": "code",
   "execution_count": 6,
   "metadata": {},
   "outputs": [
    {
     "data": {
      "text/plain": [
       "<matplotlib.collections.PathCollection at 0x21e296be8e0>"
      ]
     },
     "execution_count": 6,
     "metadata": {},
     "output_type": "execute_result"
    },
    {
     "data": {
      "image/png": "[encoded data removed]",
      "text/plain": [
       "<Figure size 432x288 with 1 Axes>"
      ]
     },
     "metadata": {},
     "output_type": "display_data"
    }
   ],
   "source": [
    "X = df[['noised_a']]\n",
    "y = df['outputs']\n",
    "\n",
    "clf = LogisticRegression().fit(X, y)\n",
    "y_pred = clf.predict(X)\n",
    "y_proba = clf.predict_proba(X)\n",
    "\n",
    "noised_a_coefs = (clf.coef_[0][0], clf.intercept_[0])\n",
    "plt.scatter(x=y, y=y_pred, alpha=0.01, s=100)"
   ]
  },
  {
   "cell_type": "markdown",
   "metadata": {},
   "source": [
    "> regressão imperfeita, alguns falsos positivos e falsos negativos"
   ]
  },
  {
   "cell_type": "markdown",
   "metadata": {},
   "source": [
    "# Comparando os coeficientes isolados"
   ]
  },
  {
   "cell_type": "code",
   "execution_count": 7,
   "metadata": {},
   "outputs": [
    {
     "name": "stdout",
     "output_type": "stream",
     "text": [
      "input_coefs: (25.430619174690186, -12.71529402057659)\n",
      "noised_a_coefs: (21.797290155269568, -10.900915428029315)\n"
     ]
    }
   ],
   "source": [
    "print('input_coefs:',input_coefs)\n",
    "print('noised_a_coefs:',noised_a_coefs)"
   ]
  },
  {
   "cell_type": "markdown",
   "metadata": {},
   "source": [
    "### Conclusão1: Meu pensamento inicial estava errado.\n",
    "O ruido afetou o coeficiente"
   ]
  },
  {
   "cell_type": "markdown",
   "metadata": {},
   "source": [
    "# Vendo os coeficientes usando todas as variáveis"
   ]
  },
  {
   "cell_type": "code",
   "execution_count": 8,
   "metadata": {},
   "outputs": [
    {
     "data": {
      "text/html": [
       "<div>\n",
       "<style scoped>\n",
       "    .dataframe tbody tr th:only-of-type {\n",
       "        vertical-align: middle;\n",
       "    }\n",
       "\n",
       "    .dataframe tbody tr th {\n",
       "        vertical-align: top;\n",
       "    }\n",
       "\n",
       "    .dataframe thead th {\n",
       "        text-align: right;\n",
       "    }\n",
       "</style>\n",
       "<table border=\"1\" class=\"dataframe\">\n",
       "  <thead>\n",
       "    <tr style=\"text-align: right;\">\n",
       "      <th></th>\n",
       "      <th>inputs</th>\n",
       "      <th>noised_a</th>\n",
       "      <th>noised_b</th>\n",
       "      <th>noised_c</th>\n",
       "      <th>random</th>\n",
       "      <th>intercept</th>\n",
       "    </tr>\n",
       "  </thead>\n",
       "  <tbody>\n",
       "    <tr>\n",
       "      <th>0</th>\n",
       "      <td>16.784999</td>\n",
       "      <td>9.570584</td>\n",
       "      <td>4.506299</td>\n",
       "      <td>2.554155</td>\n",
       "      <td>-0.047446</td>\n",
       "      <td>-16.648147</td>\n",
       "    </tr>\n",
       "  </tbody>\n",
       "</table>\n",
       "</div>"
      ],
      "text/plain": [
       "      inputs  noised_a  noised_b  noised_c    random  intercept\n",
       "0  16.784999  9.570584  4.506299  2.554155 -0.047446 -16.648147"
      ]
     },
     "execution_count": 8,
     "metadata": {},
     "output_type": "execute_result"
    }
   ],
   "source": [
    "X = df[['inputs','noised_a','noised_b','noised_c','random']]\n",
    "y = df['outputs']\n",
    "\n",
    "clf = LogisticRegression().fit(X, y)\n",
    "y_pred = clf.predict(X)\n",
    "y_proba = clf.predict_proba(X)\n",
    "\n",
    "original_coefs = pd.DataFrame(clf.coef_, columns=X.columns)\n",
    "original_coefs['intercept'] = clf.intercept_[0]\n",
    "original_coefs"
   ]
  },
  {
   "cell_type": "markdown",
   "metadata": {},
   "source": [
    "# Vendo o efeito do fator multiplicativo em uma das entradas"
   ]
  },
  {
   "cell_type": "code",
   "execution_count": 28,
   "metadata": {},
   "outputs": [
    {
     "name": "stdout",
     "output_type": "stream",
     "text": [
      "Original:\n",
      "      inputs  noised_a  noised_b  noised_c    random  intercept\n",
      "0  16.784999  9.570584  4.506299  2.554155 -0.047446 -16.648147\n",
      "\n",
      "\n",
      "noised_a multiplicado:\n",
      "      inputs  noised_a  noised_b  noised_c    random  intercept\n",
      "0  14.583634  8.131859  4.172491  2.442638 -0.081134 -18.653552\n"
     ]
    }
   ],
   "source": [
    "X = df[['inputs','noised_a','noised_b','noised_c','random']].copy()\n",
    "X['noised_a'] = X['noised_a'].map(lambda vals: vals*2)\n",
    "y = df['outputs']\n",
    "\n",
    "clf = LogisticRegression().fit(X, y)\n",
    "y_pred = clf.predict(X)\n",
    "y_proba = clf.predict_proba(X)\n",
    "\n",
    "coefs = pd.DataFrame(clf.coef_, columns=X.columns)\n",
    "coefs['intercept'] = clf.intercept_[0]\n",
    "\n",
    "print(\"Original:\")\n",
    "print(original_coefs)\n",
    "print('\\n')\n",
    "print(\"noised_a multiplicado:\")\n",
    "print(coefs)"
   ]
  },
  {
   "cell_type": "markdown",
   "metadata": {},
   "source": [
    "### Conclusão: Não consegui concluir nada 😥\n",
    "Todos os coeficientes vão mudando, o que já complica um pouco e tem o intercept ( = $\\beta_0$?) que também muda. Não consegui entender o padrão, o comportamento parece completamente diferente quando o fator multiplicaivo é: 2, 5, 10 e 100"
   ]
  },
  {
   "cell_type": "markdown",
   "metadata": {},
   "source": [
    "# Tentando forçar o aumento do coeficiente `noised_a` com fator multiplicativo:\n",
    "- Spoiler: Não consegui fazer o coeficiente de `noised_a` superar o de `inputs`, mesmo multiplicando as entradas por um valor elevado (mas se em vez disso tivesse tentado reduzir o `inputs` daria certo)\n",
    "\n",
    "- <strong style=\"color:#ff4545\">Mas era pra conseguir, não era?</strong>"
   ]
  },
  {
   "cell_type": "code",
   "execution_count": 11,
   "metadata": {},
   "outputs": [
    {
     "name": "stdout",
     "output_type": "stream",
     "text": [
      "Original:\n",
      "      inputs  noised_a  noised_b  noised_c    random  intercept\n",
      "0  16.784999  9.570584  4.506299  2.554155 -0.047446 -16.648147\n",
      "\n",
      "\n",
      "noised_a multiplicado:\n",
      "      inputs  noised_a  noised_b  noised_c    random  intercept\n",
      "0  13.073306  2.259337   3.98277  2.403589 -0.112124 -20.931343\n"
     ]
    }
   ],
   "source": [
    "X = df[['inputs','noised_a','noised_b','noised_c','random']].copy()\n",
    "X['noised_a'] = X['noised_a'].map(lambda vals: vals*10)     # Não deu\n",
    "# X['noised_a'] = X['noised_a'].map(lambda vals: vals/10)     # Tbm não deu\n",
    "# X['inputs'] = X['inputs'].map(lambda vals: vals/100)          # Esse deu\n",
    "y = df['outputs']\n",
    "\n",
    "clf = LogisticRegression().fit(X, y)\n",
    "y_pred = clf.predict(X)\n",
    "y_proba = clf.predict_proba(X)\n",
    "\n",
    "coefs = pd.DataFrame(clf.coef_, columns=X.columns)\n",
    "coefs['intercept'] = clf.intercept_[0]\n",
    "\n",
    "print(\"Original:\")\n",
    "print(original_coefs)\n",
    "print('\\n')\n",
    "print(\"noised_a multiplicado:\")\n",
    "print(coefs)"
   ]
  },
  {
   "cell_type": "markdown",
   "metadata": {},
   "source": [
    "# Vendo o efeito do fator multiplicativo em uma das entradas em casos isolados"
   ]
  },
  {
   "cell_type": "code",
   "execution_count": 35,
   "metadata": {},
   "outputs": [],
   "source": [
    "X = df[['noised_a']]\n",
    "y = df['outputs']\n",
    "\n",
    "clf = LogisticRegression().fit(X, y)\n",
    "y_pred = clf.predict(X)\n",
    "y_proba = clf.predict_proba(X)\n",
    "\n",
    "input_coefs = (clf.coef_[0][0], clf.intercept_[0])"
   ]
  },
  {
   "cell_type": "code",
   "execution_count": 36,
   "metadata": {},
   "outputs": [],
   "source": [
    "X = df[['noised_a']].copy()\n",
    "X['noised_a'] = X['noised_a']*2\n",
    "y = df['outputs']\n",
    "\n",
    "clf = LogisticRegression().fit(X, y)\n",
    "y_pred = clf.predict(X)\n",
    "y_proba = clf.predict_proba(X)\n",
    "\n",
    "input_coefs_2 = (clf.coef_[0][0], clf.intercept_[0])"
   ]
  },
  {
   "cell_type": "code",
   "execution_count": 37,
   "metadata": {},
   "outputs": [],
   "source": [
    "X = df[['noised_a']].copy()\n",
    "X['noised_a'] = X['noised_a']/2\n",
    "y = df['outputs']\n",
    "\n",
    "clf = LogisticRegression().fit(X, y)\n",
    "y_pred = clf.predict(X)\n",
    "y_proba = clf.predict_proba(X)\n",
    "\n",
    "input_coefs_3 = (clf.coef_[0][0], clf.intercept_[0])"
   ]
  },
  {
   "cell_type": "markdown",
   "metadata": {},
   "source": [
    "#### Comparando os coeficientes"
   ]
  },
  {
   "cell_type": "code",
   "execution_count": 38,
   "metadata": {},
   "outputs": [
    {
     "name": "stdout",
     "output_type": "stream",
     "text": [
      "Entrada dividida: (29.919834007765104, -7.483515942959024)\n",
      "Com entrada original: (21.797290155269568, -10.900915428029315)\n",
      "Entrada multiplicada: (14.426426603023426, -14.426412993004996)\n"
     ]
    }
   ],
   "source": [
    "print(\"Entrada dividida:\",input_coefs_3)\n",
    "print(\"Com entrada original:\",input_coefs)\n",
    "print(\"Entrada multiplicada:\",input_coefs_2)"
   ]
  },
  {
   "cell_type": "markdown",
   "metadata": {},
   "source": [
    "# Conclusão: 🤷\n",
    "Havia me esquecido que, além do $\\beta_1$, também tinha o $\\beta_0$ para ser considerado.\n",
    "\n",
    "Pra esse caso isolado as coisas parecem fazer mais sentido, a \"entrada dividida\" acaba tendo coeficiente menor pois uma variação menor na entrada resulta numa alteração maior esperada pro cálculo da saída (eu acho)"
   ]
  }
 ],
 "metadata": {
  "interpreter": {
   "hash": "8fac594bfae6525c0c41b4041d2d72effa188cc8ead05f81b1fab2bb098927fb"
  },
  "kernelspec": {
   "display_name": "Python 3.8.5 ('base')",
   "language": "python",
   "name": "python3"
  },
  "language_info": {
   "codemirror_mode": {
    "name": "ipython",
    "version": 3
   },
   "file_extension": ".py",
   "mimetype": "text/x-python",
   "name": "python",
   "nbconvert_exporter": "python",
   "pygments_lexer": "ipython3",
   "version": "3.8.5"
  },
  "orig_nbformat": 4
 },
 "nbformat": 4,
 "nbformat_minor": 2
}
