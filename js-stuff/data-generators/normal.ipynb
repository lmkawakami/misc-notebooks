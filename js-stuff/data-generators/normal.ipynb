{
 "cells": [
  {
   "cell_type": "code",
   "execution_count": 5,
   "metadata": {},
   "outputs": [],
   "source": [
    "from scipy.stats import norm\n",
    "import numpy as np\n",
    "import json"
   ]
  },
  {
   "cell_type": "code",
   "execution_count": 19,
   "metadata": {},
   "outputs": [],
   "source": [
    "x = np.linspace(-10,10,2_001)\n",
    "\n",
    "pdf = norm.pdf(x)\n",
    "cdf = norm.cdf(x)\n",
    "sf = norm.sf(x)\n",
    "\n",
    "data = [{\n",
    "  'x': int(x[i]),\n",
    "  'pdf': pdf[i],\n",
    "  'cdf': cdf[i],\n",
    "  'sf':sf[i]\n",
    "  } for i in range(len(x)) ]\n"
   ]
  },
  {
   "cell_type": "code",
   "execution_count": 20,
   "metadata": {},
   "outputs": [],
   "source": [
    "a_file = open(\"./data.json\", \"w\")\n",
    "a_file = json.dump(data, a_file)"
   ]
  },
  {
   "cell_type": "code",
   "execution_count": 15,
   "metadata": {},
   "outputs": [
    {
     "data": {
      "text/plain": [
       "[{'x': -10000,\n",
       "  'pdf': 7.69459862670642e-23,\n",
       "  'cdf': 7.61985302416047e-24,\n",
       "  'sf': 1.0},\n",
       " {'x': -5000,\n",
       "  'pdf': 1.4867195147342979e-06,\n",
       "  'cdf': 2.866515718791933e-07,\n",
       "  'sf': 0.9999997133484281},\n",
       " {'x': 0, 'pdf': 0.3989422804014327, 'cdf': 0.5, 'sf': 0.5},\n",
       " {'x': 5000,\n",
       "  'pdf': 1.4867195147342979e-06,\n",
       "  'cdf': 0.9999997133484281,\n",
       "  'sf': 2.866515718791933e-07},\n",
       " {'x': 10000,\n",
       "  'pdf': 7.69459862670642e-23,\n",
       "  'cdf': 1.0,\n",
       "  'sf': 7.61985302416047e-24}]"
      ]
     },
     "execution_count": 15,
     "metadata": {},
     "output_type": "execute_result"
    }
   ],
   "source": [
    "x = np.linspace(-10_000,10_000,5)\n",
    "\n",
    "pdf = norm.pdf(x/1000)\n",
    "cdf = norm.cdf(x/1000)\n",
    "sf = norm.sf(x/1000)\n",
    "\n",
    "data_mini = [{\n",
    "  'x': int(x[i]),\n",
    "  'pdf': pdf[i],\n",
    "  'cdf': cdf[i],\n",
    "  'sf':sf[i]\n",
    "  } for i in range(len(x)) ]\n",
    "\n",
    "data_mini"
   ]
  },
  {
   "cell_type": "code",
   "execution_count": 16,
   "metadata": {},
   "outputs": [],
   "source": [
    "a_file = open(\"./data-mini.json\", \"w\")\n",
    "a_file = json.dump(data_mini, a_file)"
   ]
  }
 ],
 "metadata": {
  "interpreter": {
   "hash": "8fac594bfae6525c0c41b4041d2d72effa188cc8ead05f81b1fab2bb098927fb"
  },
  "kernelspec": {
   "display_name": "Python 3.8.5 ('base')",
   "language": "python",
   "name": "python3"
  },
  "language_info": {
   "codemirror_mode": {
    "name": "ipython",
    "version": 3
   },
   "file_extension": ".py",
   "mimetype": "text/x-python",
   "name": "python",
   "nbconvert_exporter": "python",
   "pygments_lexer": "ipython3",
   "version": "3.8.5"
  },
  "orig_nbformat": 4
 },
 "nbformat": 4,
 "nbformat_minor": 2
}
